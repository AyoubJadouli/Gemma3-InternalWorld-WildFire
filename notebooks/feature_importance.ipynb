{
 "cells": [
  {
   "cell_type": "code",
   "execution_count": null,
   "id": "75c9bf4b",
   "metadata": {},
   "outputs": [],
   "source": [
    "# model comparatsion"
   ]
  }
 ],
 "metadata": {
  "language_info": {
   "name": "python"
  }
 },
 "nbformat": 4,
 "nbformat_minor": 5
}
